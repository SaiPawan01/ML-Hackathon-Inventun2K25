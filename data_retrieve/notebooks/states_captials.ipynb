{
 "cells": [
  {
   "cell_type": "markdown",
   "metadata": {
    "vscode": {
     "languageId": "plaintext"
    }
   },
   "source": [
    "| State | Capital | Latitude | Longitude |\n",
    "|---|---|---|---|\n",
    "| Andhra Pradesh | Amaravati | 16.50° N | 80.62° E |\n",
    "| Arunachal Pradesh | Itanagar | 27.10° N | 93.62° E |\n",
    "| Assam | Dispur | 26.10° N | 91.38° E |\n",
    "| Bihar | Patna | 25.60° N | 85.12° E |\n",
    "| Chhattisgarh | Raipur | 21.15° N | 81.25° E |\n",
    "| Goa | Panaji | 15.50° N | 73.82° E |\n",
    "| Gujarat | Gandhinagar | 23.00° N | 72.62° E |\n",
    "| Haryana | Chandigarh | 30.75° N | 76.80° E |\n",
    "| Himachal Pradesh | Shimla | 31.10° N | 77.10° E |\n",
    "| Jharkhand | Ranchi | 23.35° N | 85.30° E |\n",
    "| Karnataka | Bengaluru | 12.97° N | 77.56° E |\n",
    "| Kerala | Thiruvananthapuram | 8.50° N | 76.92° E |\n",
    "| Madhya Pradesh | Bhopal | 23.25° N | 77.42° E |\n",
    "| Maharashtra | Mumbai | 19.00° N | 72.85° E |\n",
    "| Manipur | Imphal | 24.78° N | 93.93° E |\n",
    "| Meghalaya | Shillong | 25.62° N | 91.88° E |\n",
    "| Mizoram | Aizawl | 23.15° N | 92.72° E |\n",
    "| Nagaland | Kohima | 25.65° N | 94.12° E |\n",
    "| Odisha | Bhubaneswar | 20.25° N | 85.82° E |\n",
    "| Punjab | Chandigarh | 30.75° N | 76.80° E |\n",
    "| Rajasthan | Jaipur | 26.92° N | 75.80° E |\n",
    "| Sikkim | Gangtok | 27.33° N | 88.62° E |\n",
    "| Tamil Nadu | Chennai | 13.05° N | 80.25° E |\n",
    "| Telangana | Hyderabad | 17.38° N | 78.48° E |\n",
    "| Tripura | Agartala | 23.82° N | 91.25° E |\n",
    "| Uttar Pradesh | Lucknow | 26.83° N | 80.95° E |\n",
    "| Uttarakhand | Dehradun | 30.32° N | 78.05° E |\n",
    "| West Bengal | Kolkata | 22.57° N | 88.38° E |"
   ]
  },
  {
   "cell_type": "code",
   "execution_count": 1,
   "metadata": {},
   "outputs": [],
   "source": [
    "import pandas as pd"
   ]
  },
  {
   "cell_type": "code",
   "execution_count": 3,
   "metadata": {},
   "outputs": [
    {
     "data": {
      "text/html": [
       "<div>\n",
       "<style scoped>\n",
       "    .dataframe tbody tr th:only-of-type {\n",
       "        vertical-align: middle;\n",
       "    }\n",
       "\n",
       "    .dataframe tbody tr th {\n",
       "        vertical-align: top;\n",
       "    }\n",
       "\n",
       "    .dataframe thead th {\n",
       "        text-align: right;\n",
       "    }\n",
       "</style>\n",
       "<table border=\"1\" class=\"dataframe\">\n",
       "  <thead>\n",
       "    <tr style=\"text-align: right;\">\n",
       "      <th></th>\n",
       "      <th>city</th>\n",
       "      <th>latitude</th>\n",
       "      <th>longitue</th>\n",
       "    </tr>\n",
       "  </thead>\n",
       "  <tbody>\n",
       "    <tr>\n",
       "      <th>0</th>\n",
       "      <td>Mumbai</td>\n",
       "      <td>19.0760</td>\n",
       "      <td>72.8777</td>\n",
       "    </tr>\n",
       "    <tr>\n",
       "      <th>1</th>\n",
       "      <td>Delhi</td>\n",
       "      <td>28.7041</td>\n",
       "      <td>77.1025</td>\n",
       "    </tr>\n",
       "    <tr>\n",
       "      <th>2</th>\n",
       "      <td>Chennai</td>\n",
       "      <td>13.0843</td>\n",
       "      <td>80.2705</td>\n",
       "    </tr>\n",
       "    <tr>\n",
       "      <th>3</th>\n",
       "      <td>Kolkata</td>\n",
       "      <td>22.5744</td>\n",
       "      <td>88.3629</td>\n",
       "    </tr>\n",
       "    <tr>\n",
       "      <th>4</th>\n",
       "      <td>Bengaluru</td>\n",
       "      <td>12.9716</td>\n",
       "      <td>77.5946</td>\n",
       "    </tr>\n",
       "    <tr>\n",
       "      <th>5</th>\n",
       "      <td>Hyderabad</td>\n",
       "      <td>17.4065</td>\n",
       "      <td>78.4772</td>\n",
       "    </tr>\n",
       "    <tr>\n",
       "      <th>6</th>\n",
       "      <td>Ahmedabad</td>\n",
       "      <td>23.0225</td>\n",
       "      <td>72.5714</td>\n",
       "    </tr>\n",
       "    <tr>\n",
       "      <th>7</th>\n",
       "      <td>Pune</td>\n",
       "      <td>18.5204</td>\n",
       "      <td>73.8567</td>\n",
       "    </tr>\n",
       "  </tbody>\n",
       "</table>\n",
       "</div>"
      ],
      "text/plain": [
       "        city  latitude  longitue\n",
       "0     Mumbai   19.0760   72.8777\n",
       "1      Delhi   28.7041   77.1025\n",
       "2    Chennai   13.0843   80.2705\n",
       "3    Kolkata   22.5744   88.3629\n",
       "4  Bengaluru   12.9716   77.5946\n",
       "5  Hyderabad   17.4065   78.4772\n",
       "6  Ahmedabad   23.0225   72.5714\n",
       "7       Pune   18.5204   73.8567"
      ]
     },
     "execution_count": 3,
     "metadata": {},
     "output_type": "execute_result"
    }
   ],
   "source": [
    "data = pd.read_csv('states_lat_lon.csv')\n",
    "data"
   ]
  },
  {
   "cell_type": "code",
   "execution_count": null,
   "metadata": {},
   "outputs": [],
   "source": []
  }
 ],
 "metadata": {
  "kernelspec": {
   "display_name": ".venv",
   "language": "python",
   "name": "python3"
  },
  "language_info": {
   "codemirror_mode": {
    "name": "ipython",
    "version": 3
   },
   "file_extension": ".py",
   "mimetype": "text/x-python",
   "name": "python",
   "nbconvert_exporter": "python",
   "pygments_lexer": "ipython3",
   "version": "3.11.0"
  }
 },
 "nbformat": 4,
 "nbformat_minor": 2
}
