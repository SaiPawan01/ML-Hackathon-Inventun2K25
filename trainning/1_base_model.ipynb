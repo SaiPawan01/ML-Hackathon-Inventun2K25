{
 "cells": [
  {
   "cell_type": "code",
   "execution_count": 1,
   "metadata": {},
   "outputs": [],
   "source": [
    "import pandas as pd\n",
    "from sklearn.metrics import mean_absolute_error,mean_squared_error,root_mean_squared_error,r2_score\n",
    "from sklearn.preprocessing import MinMaxScaler"
   ]
  },
  {
   "cell_type": "code",
   "execution_count": 2,
   "metadata": {},
   "outputs": [],
   "source": [
    "x_train = pd.read_csv('../dataset_preparation/train_test_data/x_train.csv')\n",
    "x_test = pd.read_csv('../dataset_preparation/train_test_data/x_test.csv')\n",
    "y_train = pd.read_csv(\"../dataset_preparation/train_test_data/y_train.csv\")\n",
    "y_test = pd.read_csv(\"../dataset_preparation/train_test_data/y_test.csv\")"
   ]
  },
  {
   "cell_type": "code",
   "execution_count": 3,
   "metadata": {},
   "outputs": [
    {
     "data": {
      "text/plain": [
       "(518, 1)"
      ]
     },
     "execution_count": 3,
     "metadata": {},
     "output_type": "execute_result"
    }
   ],
   "source": [
    "y_train.shape"
   ]
  },
  {
   "cell_type": "code",
   "execution_count": 4,
   "metadata": {},
   "outputs": [],
   "source": [
    "def base_model(x_train,y_train):\n",
    "    mean = y_train.mean()['aqi']\n",
    "    print(mean)\n",
    "    prediction = s = pd.Series(mean, index=range(518))\n",
    "    return prediction"
   ]
  },
  {
   "cell_type": "code",
   "execution_count": 5,
   "metadata": {},
   "outputs": [
    {
     "name": "stdout",
     "output_type": "stream",
     "text": [
      "164.97683397683397\n"
     ]
    },
    {
     "data": {
      "text/plain": [
       "0      164.976834\n",
       "1      164.976834\n",
       "2      164.976834\n",
       "3      164.976834\n",
       "4      164.976834\n",
       "          ...    \n",
       "513    164.976834\n",
       "514    164.976834\n",
       "515    164.976834\n",
       "516    164.976834\n",
       "517    164.976834\n",
       "Length: 518, dtype: float64"
      ]
     },
     "execution_count": 5,
     "metadata": {},
     "output_type": "execute_result"
    }
   ],
   "source": [
    "predictions = base_model(x_train,y_train)\n",
    "predictions"
   ]
  },
  {
   "cell_type": "code",
   "execution_count": 6,
   "metadata": {},
   "outputs": [
    {
     "name": "stdout",
     "output_type": "stream",
     "text": [
      "train data mean absolute error : 36.23246522860423\n"
     ]
    }
   ],
   "source": [
    "print(f\"train data mean absolute error : {mean_absolute_error(y_train,predictions)}\")"
   ]
  },
  {
   "cell_type": "code",
   "execution_count": 7,
   "metadata": {},
   "outputs": [
    {
     "name": "stdout",
     "output_type": "stream",
     "text": [
      "train data mean squared error : 2428.07282240873\n"
     ]
    }
   ],
   "source": [
    "print(f\"train data mean squared error : {mean_squared_error(y_train,predictions)}\")"
   ]
  },
  {
   "cell_type": "code",
   "execution_count": 8,
   "metadata": {},
   "outputs": [
    {
     "name": "stdout",
     "output_type": "stream",
     "text": [
      "train data root mean squared error : 49.27547891607681\n"
     ]
    }
   ],
   "source": [
    "print(f\"train data root mean squared error : {root_mean_squared_error(y_train,predictions)}\")"
   ]
  },
  {
   "cell_type": "code",
   "execution_count": 9,
   "metadata": {},
   "outputs": [
    {
     "name": "stdout",
     "output_type": "stream",
     "text": [
      "train data r2 score : 0.0\n"
     ]
    }
   ],
   "source": [
    "print(f\"train data r2 score : {r2_score(y_train,predictions)}\")"
   ]
  },
  {
   "cell_type": "code",
   "execution_count": 10,
   "metadata": {},
   "outputs": [],
   "source": [
    "import pickle\n",
    "model = 'base_model(mean)'\n",
    "with open('results/results_train.csv','a') as f:\n",
    "    f.write(f\"{model},{mean_absolute_error(y_train,predictions):.2f},{mean_squared_error(y_train,predictions):.2f},{root_mean_squared_error(y_train,predictions):.2f},{r2_score(y_train,predictions):.2f}\\n\")\n",
    "\n",
    "\n",
    "with open('results/results_test.csv','a') as f:\n",
    "    f.write(f\"{model},{mean_absolute_error(y_train,predictions):.2f},{mean_squared_error(y_train,predictions):.2f},{root_mean_squared_error(y_train,predictions):.2f},{r2_score(y_train,predictions):.2f}\\n\")\n"
   ]
  },
  {
   "cell_type": "code",
   "execution_count": null,
   "metadata": {},
   "outputs": [],
   "source": []
  }
 ],
 "metadata": {
  "kernelspec": {
   "display_name": ".venv",
   "language": "python",
   "name": "python3"
  },
  "language_info": {
   "codemirror_mode": {
    "name": "ipython",
    "version": 3
   },
   "file_extension": ".py",
   "mimetype": "text/x-python",
   "name": "python",
   "nbconvert_exporter": "python",
   "pygments_lexer": "ipython3",
   "version": "3.11.0"
  }
 },
 "nbformat": 4,
 "nbformat_minor": 2
}
