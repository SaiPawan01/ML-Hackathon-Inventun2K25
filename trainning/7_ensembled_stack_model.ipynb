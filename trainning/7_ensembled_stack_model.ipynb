{
 "cells": [
  {
   "cell_type": "code",
   "execution_count": null,
   "metadata": {},
   "outputs": [],
   "source": [
    "import pandas as pd\n",
    "import pickle\n",
    "import numpy as np\n",
    "from sklearn.preprocessing import StandardScaler, PolynomialFeatures\n",
    "from sklearn.tree import DecisionTreeRegressor\n",
    "from sklearn.ensemble import RandomForestRegressor, GradientBoostingRegressor\n",
    "from sklearn.metrics import mean_squared_error, mean_absolute_error, r2_score"
   ]
  },
  {
   "cell_type": "code",
   "execution_count": 31,
   "metadata": {},
   "outputs": [],
   "source": [
    "X_train = pd.read_csv('../dataset_preparation/train_test_data/x_train.csv')\n",
    "X_test = pd.read_csv('../dataset_preparation/train_test_data/x_test.csv')\n",
    "y_train = pd.read_csv(\"../dataset_preparation/train_test_data/y_train.csv\")\n",
    "y_test = pd.read_csv(\"../dataset_preparation/train_test_data/y_test.csv\")"
   ]
  },
  {
   "cell_type": "code",
   "execution_count": 32,
   "metadata": {},
   "outputs": [],
   "source": [
    "y_train = y_train.values.ravel()\n",
    "y_test = y_test.values.ravel()"
   ]
  },
  {
   "cell_type": "code",
   "execution_count": 33,
   "metadata": {},
   "outputs": [],
   "source": [
    "poly = PolynomialFeatures(degree=2, interaction_only=False, include_bias=False)\n",
    "X_train_poly = poly.fit_transform(X_train)\n",
    "X_test_poly = poly.transform(X_test)"
   ]
  },
  {
   "cell_type": "code",
   "execution_count": 34,
   "metadata": {},
   "outputs": [],
   "source": [
    "with open('models/polynomialFeatures.pkl','wb') as file:\n",
    "    pickle.dump(poly,file)"
   ]
  },
  {
   "cell_type": "code",
   "execution_count": 35,
   "metadata": {},
   "outputs": [],
   "source": [
    "scaler = StandardScaler()\n",
    "X_train_scaled = scaler.fit_transform(X_train_poly)\n",
    "X_test_scaled = scaler.transform(X_test_poly)"
   ]
  },
  {
   "cell_type": "code",
   "execution_count": 36,
   "metadata": {},
   "outputs": [],
   "source": [
    "with open('models/standard_scaler.pkl','wb') as file:\n",
    "    pickle.dump(scaler,file)"
   ]
  },
  {
   "cell_type": "code",
   "execution_count": 37,
   "metadata": {},
   "outputs": [
    {
     "data": {
      "text/plain": [
       "['co',\n",
       " 'no2',\n",
       " 'o3',\n",
       " 'pm10',\n",
       " 'pm25',\n",
       " 'so2',\n",
       " 'hour',\n",
       " 'city_name_Ahmedabad',\n",
       " 'city_name_Bengaluru',\n",
       " 'city_name_Chennai',\n",
       " 'city_name_Delhi',\n",
       " 'city_name_Gajuwaka',\n",
       " 'city_name_Hyderabad',\n",
       " 'city_name_Kolkata',\n",
       " 'city_name_Mumbai',\n",
       " 'city_name_Pune',\n",
       " 'co^2',\n",
       " 'co_no2',\n",
       " 'co_o3',\n",
       " 'co_pm10',\n",
       " 'co_pm25',\n",
       " 'co_so2',\n",
       " 'co_hour',\n",
       " 'co_city_name_Ahmedabad',\n",
       " 'co_city_name_Bengaluru',\n",
       " 'co_city_name_Chennai',\n",
       " 'co_city_name_Delhi',\n",
       " 'co_city_name_Gajuwaka',\n",
       " 'co_city_name_Hyderabad',\n",
       " 'co_city_name_Kolkata',\n",
       " 'co_city_name_Mumbai',\n",
       " 'co_city_name_Pune',\n",
       " 'no2^2',\n",
       " 'no2_o3',\n",
       " 'no2_pm10',\n",
       " 'no2_pm25',\n",
       " 'no2_so2',\n",
       " 'no2_hour',\n",
       " 'no2_city_name_Ahmedabad',\n",
       " 'no2_city_name_Bengaluru',\n",
       " 'no2_city_name_Chennai',\n",
       " 'no2_city_name_Delhi',\n",
       " 'no2_city_name_Gajuwaka',\n",
       " 'no2_city_name_Hyderabad',\n",
       " 'no2_city_name_Kolkata',\n",
       " 'no2_city_name_Mumbai',\n",
       " 'no2_city_name_Pune',\n",
       " 'o3^2',\n",
       " 'o3_pm10',\n",
       " 'o3_pm25',\n",
       " 'o3_so2',\n",
       " 'o3_hour',\n",
       " 'o3_city_name_Ahmedabad',\n",
       " 'o3_city_name_Bengaluru',\n",
       " 'o3_city_name_Chennai',\n",
       " 'o3_city_name_Delhi',\n",
       " 'o3_city_name_Gajuwaka',\n",
       " 'o3_city_name_Hyderabad',\n",
       " 'o3_city_name_Kolkata',\n",
       " 'o3_city_name_Mumbai',\n",
       " 'o3_city_name_Pune',\n",
       " 'pm10^2',\n",
       " 'pm10_pm25',\n",
       " 'pm10_so2',\n",
       " 'pm10_hour',\n",
       " 'pm10_city_name_Ahmedabad',\n",
       " 'pm10_city_name_Bengaluru',\n",
       " 'pm10_city_name_Chennai',\n",
       " 'pm10_city_name_Delhi',\n",
       " 'pm10_city_name_Gajuwaka',\n",
       " 'pm10_city_name_Hyderabad',\n",
       " 'pm10_city_name_Kolkata',\n",
       " 'pm10_city_name_Mumbai',\n",
       " 'pm10_city_name_Pune',\n",
       " 'pm25^2',\n",
       " 'pm25_so2',\n",
       " 'pm25_hour',\n",
       " 'pm25_city_name_Ahmedabad',\n",
       " 'pm25_city_name_Bengaluru',\n",
       " 'pm25_city_name_Chennai',\n",
       " 'pm25_city_name_Delhi',\n",
       " 'pm25_city_name_Gajuwaka',\n",
       " 'pm25_city_name_Hyderabad',\n",
       " 'pm25_city_name_Kolkata',\n",
       " 'pm25_city_name_Mumbai',\n",
       " 'pm25_city_name_Pune',\n",
       " 'so2^2',\n",
       " 'so2_hour',\n",
       " 'so2_city_name_Ahmedabad',\n",
       " 'so2_city_name_Bengaluru',\n",
       " 'so2_city_name_Chennai',\n",
       " 'so2_city_name_Delhi',\n",
       " 'so2_city_name_Gajuwaka',\n",
       " 'so2_city_name_Hyderabad',\n",
       " 'so2_city_name_Kolkata',\n",
       " 'so2_city_name_Mumbai',\n",
       " 'so2_city_name_Pune',\n",
       " 'hour^2',\n",
       " 'hour_city_name_Ahmedabad',\n",
       " 'hour_city_name_Bengaluru',\n",
       " 'hour_city_name_Chennai',\n",
       " 'hour_city_name_Delhi',\n",
       " 'hour_city_name_Gajuwaka',\n",
       " 'hour_city_name_Hyderabad',\n",
       " 'hour_city_name_Kolkata',\n",
       " 'hour_city_name_Mumbai',\n",
       " 'hour_city_name_Pune',\n",
       " 'city_name_Ahmedabad^2',\n",
       " 'city_name_Ahmedabad_city_name_Bengaluru',\n",
       " 'city_name_Ahmedabad_city_name_Chennai',\n",
       " 'city_name_Ahmedabad_city_name_Delhi',\n",
       " 'city_name_Ahmedabad_city_name_Gajuwaka',\n",
       " 'city_name_Ahmedabad_city_name_Hyderabad',\n",
       " 'city_name_Ahmedabad_city_name_Kolkata',\n",
       " 'city_name_Ahmedabad_city_name_Mumbai',\n",
       " 'city_name_Ahmedabad_city_name_Pune',\n",
       " 'city_name_Bengaluru^2',\n",
       " 'city_name_Bengaluru_city_name_Chennai',\n",
       " 'city_name_Bengaluru_city_name_Delhi',\n",
       " 'city_name_Bengaluru_city_name_Gajuwaka',\n",
       " 'city_name_Bengaluru_city_name_Hyderabad',\n",
       " 'city_name_Bengaluru_city_name_Kolkata',\n",
       " 'city_name_Bengaluru_city_name_Mumbai',\n",
       " 'city_name_Bengaluru_city_name_Pune',\n",
       " 'city_name_Chennai^2',\n",
       " 'city_name_Chennai_city_name_Delhi',\n",
       " 'city_name_Chennai_city_name_Gajuwaka',\n",
       " 'city_name_Chennai_city_name_Hyderabad',\n",
       " 'city_name_Chennai_city_name_Kolkata',\n",
       " 'city_name_Chennai_city_name_Mumbai',\n",
       " 'city_name_Chennai_city_name_Pune',\n",
       " 'city_name_Delhi^2',\n",
       " 'city_name_Delhi_city_name_Gajuwaka',\n",
       " 'city_name_Delhi_city_name_Hyderabad',\n",
       " 'city_name_Delhi_city_name_Kolkata',\n",
       " 'city_name_Delhi_city_name_Mumbai',\n",
       " 'city_name_Delhi_city_name_Pune',\n",
       " 'city_name_Gajuwaka^2',\n",
       " 'city_name_Gajuwaka_city_name_Hyderabad',\n",
       " 'city_name_Gajuwaka_city_name_Kolkata',\n",
       " 'city_name_Gajuwaka_city_name_Mumbai',\n",
       " 'city_name_Gajuwaka_city_name_Pune',\n",
       " 'city_name_Hyderabad^2',\n",
       " 'city_name_Hyderabad_city_name_Kolkata',\n",
       " 'city_name_Hyderabad_city_name_Mumbai',\n",
       " 'city_name_Hyderabad_city_name_Pune',\n",
       " 'city_name_Kolkata^2',\n",
       " 'city_name_Kolkata_city_name_Mumbai',\n",
       " 'city_name_Kolkata_city_name_Pune',\n",
       " 'city_name_Mumbai^2',\n",
       " 'city_name_Mumbai_city_name_Pune',\n",
       " 'city_name_Pune^2']"
      ]
     },
     "execution_count": 37,
     "metadata": {},
     "output_type": "execute_result"
    }
   ],
   "source": [
    "feature_names = [name.replace(' ', '_') for name in poly.get_feature_names_out()]\n",
    "feature_names"
   ]
  },
  {
   "cell_type": "code",
   "execution_count": 38,
   "metadata": {},
   "outputs": [],
   "source": [
    "X_train_scaled_df = pd.DataFrame(X_train_scaled, columns=poly.get_feature_names_out())\n",
    "X_test_scaled_df = pd.DataFrame(X_test_scaled, columns=poly.get_feature_names_out())"
   ]
  },
  {
   "cell_type": "code",
   "execution_count": 39,
   "metadata": {},
   "outputs": [],
   "source": [
    "from sklearn.model_selection import GridSearchCV\n",
    "\n",
    "gb_params = {\n",
    "    \"n_estimators\": [100, 200, 300],\n",
    "    \"learning_rate\": [0.01, 0.1, 0.2],\n",
    "    \"max_depth\": [3, 5, 7]\n",
    "}\n",
    "gb_grid = GridSearchCV(GradientBoostingRegressor(random_state=42), gb_params, cv=5, scoring=\"r2\", n_jobs=-1)\n",
    "gb_grid.fit(X_train_scaled_df, y_train)\n",
    "best_gb = gb_grid.best_estimator_"
   ]
  },
  {
   "cell_type": "code",
   "execution_count": 40,
   "metadata": {},
   "outputs": [],
   "source": [
    "rf_params = {\n",
    "    \"n_estimators\": [100, 200, 300],\n",
    "    \"max_depth\": [None, 10, 20],\n",
    "    \"min_samples_split\": [2, 5, 10]\n",
    "}\n",
    "rf_grid = GridSearchCV(RandomForestRegressor(random_state=42), rf_params, cv=5, scoring=\"r2\", n_jobs=-1)\n",
    "rf_grid.fit(X_train_scaled_df, y_train)\n",
    "best_rf = rf_grid.best_estimator_"
   ]
  },
  {
   "cell_type": "code",
   "execution_count": 41,
   "metadata": {},
   "outputs": [
    {
     "data": {
      "image/png": "[encoded data removed]",
      "text/plain": [
       "<Figure size 1000x600 with 1 Axes>"
      ]
     },
     "metadata": {},
     "output_type": "display_data"
    }
   ],
   "source": [
    "import matplotlib.pyplot as plt\n",
    "\n",
    "feature_importances = best_gb.feature_importances_\n",
    "sorted_idx = np.argsort(feature_importances)\n",
    "\n",
    "plt.figure(figsize=(10, 6))\n",
    "plt.barh(np.array(feature_names)[sorted_idx][-10:], feature_importances[sorted_idx][-10:])\n",
    "plt.xlabel(\"Feature Importance\")\n",
    "plt.ylabel(\"Feature\")\n",
    "plt.title(\"Top 10 Important Features in Gradient Boosting\")\n",
    "plt.show()\n"
   ]
  },
  {
   "cell_type": "code",
   "execution_count": 42,
   "metadata": {},
   "outputs": [],
   "source": [
    "from sklearn.ensemble import StackingRegressor\n",
    "\n",
    "stacked_model = StackingRegressor(\n",
    "    estimators=[\n",
    "        (\"rf\", best_rf),\n",
    "        (\"dt\", DecisionTreeRegressor(random_state=42)),\n",
    "        (\"gb\", best_gb)\n",
    "    ],\n",
    "    final_estimator=GradientBoostingRegressor(random_state=42)\n",
    ")\n",
    "\n",
    "stacked_model.fit(X_train_scaled_df, y_train)\n",
    "\n",
    "y_pred_stacked = stacked_model.predict(X_test_scaled_df)\n",
    "y_pred_stacked_train = stacked_model.predict(X_train_scaled_df)\n",
    "\n",
    "\n",
    "stacked_results_train = {\n",
    "    \"MAE\": mean_absolute_error(y_train, y_pred_stacked_train),\n",
    "    \"MSE\": mean_squared_error(y_train, y_pred_stacked_train),\n",
    "    \"RMSE\": np.sqrt(mean_squared_error(y_train, y_pred_stacked_train)),\n",
    "    \"R2\": r2_score(y_train, y_pred_stacked_train)\n",
    "}\n",
    "stacked_results = {\n",
    "    \"MAE\": mean_absolute_error(y_test, y_pred_stacked),\n",
    "    \"MSE\": mean_squared_error(y_test, y_pred_stacked),\n",
    "    \"RMSE\": np.sqrt(mean_squared_error(y_test, y_pred_stacked)),\n",
    "    \"R2\": r2_score(y_test, y_pred_stacked)\n",
    "}"
   ]
  },
  {
   "cell_type": "code",
   "execution_count": 43,
   "metadata": {},
   "outputs": [
    {
     "name": "stdout",
     "output_type": "stream",
     "text": [
      "Stacked Model Results on train data:\n",
      "  Mean Absolute Error (MAE): 2.01\n",
      "  Mean Squared Error (MSE): 43.09\n",
      "  Root Mean Squared Error (RMSE): 6.56\n",
      "  R-squared (R2): 0.98\n"
     ]
    }
   ],
   "source": [
    "print(\"Stacked Model Results on train data:\")\n",
    "print(f\"  Mean Absolute Error (MAE): {stacked_results_train['MAE']:.2f}\")\n",
    "print(f\"  Mean Squared Error (MSE): {stacked_results_train['MSE']:.2f}\")\n",
    "print(f\"  Root Mean Squared Error (RMSE): {stacked_results_train['RMSE']:.2f}\")\n",
    "print(f\"  R-squared (R2): {stacked_results_train['R2']:.2f}\")"
   ]
  },
  {
   "cell_type": "code",
   "execution_count": 44,
   "metadata": {},
   "outputs": [
    {
     "name": "stdout",
     "output_type": "stream",
     "text": [
      "Stacked Model Results:\n",
      "  Mean Absolute Error (MAE): 3.45\n",
      "  Mean Squared Error (MSE): 68.56\n",
      "  Root Mean Squared Error (RMSE): 8.28\n",
      "  R-squared (R2): 0.98\n"
     ]
    }
   ],
   "source": [
    "print(\"Stacked Model Results:\")\n",
    "print(f\"  Mean Absolute Error (MAE): {stacked_results['MAE']:.2f}\")\n",
    "print(f\"  Mean Squared Error (MSE): {stacked_results['MSE']:.2f}\")\n",
    "print(f\"  Root Mean Squared Error (RMSE): {stacked_results['RMSE']:.2f}\")\n",
    "print(f\"  R-squared (R2): {stacked_results['R2']:.2f}\")"
   ]
  },
  {
   "cell_type": "code",
   "execution_count": 45,
   "metadata": {},
   "outputs": [
    {
     "data": {
      "text/html": [
       "<div>\n",
       "<style scoped>\n",
       "    .dataframe tbody tr th:only-of-type {\n",
       "        vertical-align: middle;\n",
       "    }\n",
       "\n",
       "    .dataframe tbody tr th {\n",
       "        vertical-align: top;\n",
       "    }\n",
       "\n",
       "    .dataframe thead th {\n",
       "        text-align: right;\n",
       "    }\n",
       "</style>\n",
       "<table border=\"1\" class=\"dataframe\">\n",
       "  <thead>\n",
       "    <tr style=\"text-align: right;\">\n",
       "      <th></th>\n",
       "      <th>actual</th>\n",
       "      <th>predicitons</th>\n",
       "    </tr>\n",
       "  </thead>\n",
       "  <tbody>\n",
       "    <tr>\n",
       "      <th>0</th>\n",
       "      <td>146</td>\n",
       "      <td>142.170090</td>\n",
       "    </tr>\n",
       "    <tr>\n",
       "      <th>1</th>\n",
       "      <td>188</td>\n",
       "      <td>187.816876</td>\n",
       "    </tr>\n",
       "    <tr>\n",
       "      <th>2</th>\n",
       "      <td>93</td>\n",
       "      <td>92.542170</td>\n",
       "    </tr>\n",
       "    <tr>\n",
       "      <th>3</th>\n",
       "      <td>156</td>\n",
       "      <td>157.249866</td>\n",
       "    </tr>\n",
       "    <tr>\n",
       "      <th>4</th>\n",
       "      <td>94</td>\n",
       "      <td>96.883937</td>\n",
       "    </tr>\n",
       "    <tr>\n",
       "      <th>...</th>\n",
       "      <td>...</td>\n",
       "      <td>...</td>\n",
       "    </tr>\n",
       "    <tr>\n",
       "      <th>125</th>\n",
       "      <td>240</td>\n",
       "      <td>245.667904</td>\n",
       "    </tr>\n",
       "    <tr>\n",
       "      <th>126</th>\n",
       "      <td>177</td>\n",
       "      <td>175.943840</td>\n",
       "    </tr>\n",
       "    <tr>\n",
       "      <th>127</th>\n",
       "      <td>187</td>\n",
       "      <td>186.477952</td>\n",
       "    </tr>\n",
       "    <tr>\n",
       "      <th>128</th>\n",
       "      <td>207</td>\n",
       "      <td>213.991068</td>\n",
       "    </tr>\n",
       "    <tr>\n",
       "      <th>129</th>\n",
       "      <td>118</td>\n",
       "      <td>118.893749</td>\n",
       "    </tr>\n",
       "  </tbody>\n",
       "</table>\n",
       "<p>130 rows × 2 columns</p>\n",
       "</div>"
      ],
      "text/plain": [
       "     actual  predicitons\n",
       "0       146   142.170090\n",
       "1       188   187.816876\n",
       "2        93    92.542170\n",
       "3       156   157.249866\n",
       "4        94    96.883937\n",
       "..      ...          ...\n",
       "125     240   245.667904\n",
       "126     177   175.943840\n",
       "127     187   186.477952\n",
       "128     207   213.991068\n",
       "129     118   118.893749\n",
       "\n",
       "[130 rows x 2 columns]"
      ]
     },
     "execution_count": 45,
     "metadata": {},
     "output_type": "execute_result"
    }
   ],
   "source": [
    "results = pd.DataFrame({\n",
    "    \"actual\" : y_test,\n",
    "    \"predicitons\": y_pred_stacked\n",
    "})\n",
    "results"
   ]
  },
  {
   "cell_type": "code",
   "execution_count": 46,
   "metadata": {},
   "outputs": [],
   "source": [
    "import pickle\n",
    "with open('models/stacked_ensembled.pkl','wb') as file:\n",
    "    pickle.dump(stacked_model,file)"
   ]
  },
  {
   "cell_type": "code",
   "execution_count": 47,
   "metadata": {},
   "outputs": [],
   "source": [
    "model = 'Ensembled_stacked_model'\n",
    "\n",
    "with open('results/results_train.csv','a') as f:\n",
    "    f.write(f\"{model},{stacked_results_train['MAE']:.2f},{stacked_results_train['MSE']:.2f},{stacked_results_train['RMSE']:.2f},{stacked_results_train['R2']:.2f}\\n\")\n",
    "\n",
    "\n",
    "with open('results/results_test.csv','a') as f:\n",
    "    f.write(f\"{model},{stacked_results['MAE']:.2f},{stacked_results['MSE']:.2f}, {stacked_results['RMSE']:.2f},{stacked_results['R2']:.2f}\\n\")"
   ]
  },
  {
   "cell_type": "code",
   "execution_count": null,
   "metadata": {},
   "outputs": [],
   "source": []
  }
 ],
 "metadata": {
  "kernelspec": {
   "display_name": ".venv",
   "language": "python",
   "name": "python3"
  },
  "language_info": {
   "codemirror_mode": {
    "name": "ipython",
    "version": 3
   },
   "file_extension": ".py",
   "mimetype": "text/x-python",
   "name": "python",
   "nbconvert_exporter": "python",
   "pygments_lexer": "ipython3",
   "version": "3.11.0"
  }
 },
 "nbformat": 4,
 "nbformat_minor": 2
}
